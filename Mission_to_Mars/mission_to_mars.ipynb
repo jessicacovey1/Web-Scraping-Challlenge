{
 "cells": [
  {
   "cell_type": "code",
   "execution_count": 41,
   "metadata": {},
   "outputs": [],
   "source": [
    "# Libraries\n",
    "from bs4 import BeautifulSoup as bs\n",
    "import requests\n",
    "import pandas as pd\n",
    "from splinter import Browser"
   ]
  },
  {
   "cell_type": "code",
   "execution_count": 42,
   "metadata": {},
   "outputs": [],
   "source": [
    "path = {\"executable_path\":\"chromedriver\"}\n",
    "browser = Browser('chrome', **path, headless=True)\n"
   ]
  },
  {
   "cell_type": "code",
   "execution_count": 43,
   "metadata": {},
   "outputs": [],
   "source": [
    "# URL of page to be scraped\n",
    "url = 'https://mars.nasa.gov/news/'"
   ]
  },
  {
   "cell_type": "code",
   "execution_count": 44,
   "metadata": {},
   "outputs": [],
   "source": [
    "# Retrieve web pa = requests.get(url)\n",
    "browser.visit(url)\n",
    "html = browser.html"
   ]
  },
  {
   "cell_type": "code",
   "execution_count": 45,
   "metadata": {},
   "outputs": [],
   "source": [
    "# Create BeautifulSoup Object with parser\n",
    "soup = bs(html, 'html.parser')"
   ]
  },
  {
   "cell_type": "code",
   "execution_count": 46,
   "metadata": {
    "scrolled": true,
    "tags": [
     "outputPrepend"
    ]
   },
   "outputs": [
    {
     "output_type": "stream",
     "name": "stdout",
     "text": [
      "mars-exploration/missions/?category=167\" target=\"_self\">\n                Past\n               </a>\n              </li>\n              <li>\n               <a href=\"/mars-exploration/missions/?category=170\" target=\"_self\">\n                Present\n               </a>\n              </li>\n              <li>\n               <a href=\"/mars-exploration/missions/?category=171\" target=\"_self\">\n                Future\n               </a>\n              </li>\n              <li>\n               <a href=\"/mars-exploration/partners\" target=\"_self\">\n                International Partners\n               </a>\n              </li>\n             </ul>\n            </div>\n           </li>\n          </ul>\n         </div>\n        </div>\n        <div class=\"sitemap_block\" style=\"position: absolute; left: 522px; top: 160px;\">\n         <div class=\"footer_sitemap_item\">\n          <h3 class=\"sitemap_title\">\n           <a href=\"/#more\">\n            More\n           </a>\n          </h3>\n          <ul>\n           <li>\n            <div class=\"global_subnav_container\">\n             <ul class=\"subnav\">\n             </ul>\n            </div>\n           </li>\n          </ul>\n         </div>\n        </div>\n       </div>\n       <div class=\"gradient_line\">\n       </div>\n      </section>\n      <section class=\"lower_footer\">\n       <div class=\"nav_container\">\n        <nav>\n         <ul>\n          <li>\n           <a href=\"http://science.nasa.gov/\" target=\"_blank\">\n            NASA Science Mission Directorate\n           </a>\n          </li>\n          <li>\n           <a href=\"https://www.jpl.nasa.gov/copyrights.php\" target=\"_blank\">\n            Privacy\n           </a>\n          </li>\n          <li>\n           <a href=\"http://www.jpl.nasa.gov/imagepolicy/\" target=\"_blank\">\n            Image Policy\n           </a>\n          </li>\n          <li>\n           <a href=\"https://mars.nasa.gov/feedback/\" target=\"_self\">\n            Feedback\n           </a>\n          </li>\n         </ul>\n        </nav>\n       </div>\n       <div class=\"credits\">\n        <div class=\"footer_brands_top\">\n         <p>\n          Managed by the Mars Exploration Program and the Jet Propulsion Laboratory for NASA’s Science Mission Directorate\n         </p>\n        </div>\n        <!-- .footer_brands -->\n        <!-- %a.jpl{href: \"\", target: \"_blank\"}Institution -->\n        <!-- -->\n        <!-- %a.caltech{href: \"\", target: \"_blank\"}Institution -->\n        <!-- .staff -->\n        <!-- %p -->\n        <!-- - get_staff_for_category(get_field_from_admin_config(:web_staff_category_id)) -->\n        <!-- - @staff.each_with_index do |staff, idx| -->\n        <!-- - unless staff.is_in_footer == 0 -->\n        <!-- = staff.title + \": \" -->\n        <!-- - if staff.contact_link =~ /@/ -->\n        <!-- = mail_to staff.contact_link, staff.name, :subject => \"[#{@site_title}]\" -->\n        <!-- - elsif staff.contact_link.present? -->\n        <!-- = link_to staff.name, staff.contact_link -->\n        <!-- - else -->\n        <!-- = staff.name -->\n        <!-- - unless (idx + 1 == @staff.size) -->\n        <!-- %br -->\n       </div>\n      </section>\n     </div>\n    </footer>\n   </div>\n  </div>\n  <div id=\"_atssh\" style=\"visibility: hidden; height: 1px; width: 1px; position: absolute; top: -9999px; z-index: 100000;\">\n   <iframe id=\"_atssh46\" src=\"https://s7.addthis.com/static/sh.f48a1a04fe8dbf021b4cda1d.html#rand=0.6650234943849938&amp;iit=1615437798238&amp;tmr=load%3D1615437797834%26core%3D1615437797897%26main%3D1615437798235%26ifr%3D1615437798244&amp;cb=0&amp;cdn=0&amp;md=0&amp;kw=Mars%2Cmissions%2CNASA%2Crover%2CCuriosity%2COpportunity%2CInSight%2CMars%20Reconnaissance%20Orbiter%2Cfacts&amp;ab=-&amp;dh=mars.nasa.gov&amp;dr=&amp;du=https%3A%2F%2Fmars.nasa.gov%2Fnews%2F&amp;href=https%3A%2F%2Fmars.nasa.gov%2Fnews%2F&amp;dt=News%20%20%E2%80%93%20NASA%E2%80%99s%20Mars%20Exploration%20Program&amp;dbg=0&amp;cap=tc%3D0%26ab%3D0&amp;inst=1&amp;jsl=1&amp;prod=undefined&amp;lng=en&amp;ogt=image%2Cupdated_time%2Ctype%3Darticle%2Curl%2Ctitle%2Cdescription%2Csite_name&amp;pc=men&amp;pub=ra-5a690e4c1320e328&amp;ssl=1&amp;sid=60499fe5ab097d80&amp;srf=0.01&amp;ver=300&amp;xck=1&amp;xtr=0&amp;og=site_name%3DNASA%25E2%2580%2599s%2520Mars%2520Exploration%2520Program%26description%3DNASA%25E2%2580%2599s%2520real-time%2520portal%2520for%2520Mars%2520exploration%252C%2520featuring%2520the%2520latest%2520news%252C%2520images%252C%2520and%2520discoveries%2520from%2520the%2520Red%2520Planet.%26title%3DNews%2520%2520%25E2%2580%2593%2520NASA%25E2%2580%2599s%2520Mars%2520Exploration%2520Program%26url%3Dhttps%253A%252F%252Fmars.nasa.gov%252Fnews%26type%3Darticle%26updated_time%3D2017-09-22%252019%253A53%253A22%2520UTC%26image%3Dhttps%253A%252F%252Fmars.nasa.gov%252Fsystem%252Fsite_config_values%252Fmeta_share_images%252F1_mars-nasa-gov.jpg&amp;csi=undefined&amp;rev=v8.28.8-wp&amp;ct=1&amp;xld=1&amp;xd=1\" style=\"height: 1px; width: 1px; position: absolute; top: 0px; z-index: 100000; border: 0px; left: 0px;\" title=\"AddThis utility frame\">\n   </iframe>\n  </div>\n  <style id=\"service-icons-0\">\n  </style>\n  <script id=\"_fed_an_ua_tag\" src=\"https://dap.digitalgov.gov/Universal-Federated-Analytics-Min.js?agency=NASA&amp;subagency=JPL-Mars-MEPJPL&amp;pua=UA-9453474-9,UA-118212757-11&amp;dclink=true&amp;sp=searchbox&amp;exts=tif,tiff,wav\" type=\"text/javascript\">\n  </script>\n  <div aria-labelledby=\"at4-share-label\" class=\"addthis-smartlayers addthis-smartlayers-desktop\" role=\"region\">\n   <div id=\"at4-share-label\">\n    AddThis Sharing Sidebar\n   </div>\n   <div class=\"at4-share addthis_32x32_style atss atss-left addthis-animated slideInLeft\" id=\"at4-share\">\n    <a class=\"at-share-btn at-svc-facebook\" role=\"button\" tabindex=\"0\">\n     <span class=\"at4-visually-hidden\">\n      Share to Facebook\n     </span>\n     <span class=\"at-icon-wrapper\" style=\"background-color: rgb(59, 89, 152);\">\n      <svg aria-labelledby=\"at-svg-facebook-1\" class=\"at-icon at-icon-facebook\" role=\"img\" style=\"fill: rgb(255, 255, 255);\" version=\"1.1\" viewbox=\"0 0 32 32\" xmlns=\"http://www.w3.org/2000/svg\" xmlns:xlink=\"http://www.w3.org/1999/xlink\">\n       <title id=\"at-svg-facebook-1\">\n        Facebook\n       </title>\n       <g>\n        <path d=\"M22 5.16c-.406-.054-1.806-.16-3.43-.16-3.4 0-5.733 1.825-5.733 5.17v2.882H9v3.913h3.837V27h4.604V16.965h3.823l.587-3.913h-4.41v-2.5c0-1.123.347-1.903 2.198-1.903H22V5.16z\" fill-rule=\"evenodd\">\n        </path>\n       </g>\n      </svg>\n     </span>\n    </a>\n    <a class=\"at-share-btn at-svc-twitter\" role=\"button\" tabindex=\"0\">\n     <span class=\"at4-visually-hidden\">\n      Share to Twitter\n     </span>\n     <span class=\"at-icon-wrapper\" style=\"background-color: rgb(29, 161, 242);\">\n      <svg aria-labelledby=\"at-svg-twitter-2\" class=\"at-icon at-icon-twitter\" role=\"img\" style=\"fill: rgb(255, 255, 255);\" version=\"1.1\" viewbox=\"0 0 32 32\" xmlns=\"http://www.w3.org/2000/svg\" xmlns:xlink=\"http://www.w3.org/1999/xlink\">\n       <title id=\"at-svg-twitter-2\">\n        Twitter\n       </title>\n       <g>\n        <path d=\"M27.996 10.116c-.81.36-1.68.602-2.592.71a4.526 4.526 0 0 0 1.984-2.496 9.037 9.037 0 0 1-2.866 1.095 4.513 4.513 0 0 0-7.69 4.116 12.81 12.81 0 0 1-9.3-4.715 4.49 4.49 0 0 0-.612 2.27 4.51 4.51 0 0 0 2.008 3.755 4.495 4.495 0 0 1-2.044-.564v.057a4.515 4.515 0 0 0 3.62 4.425 4.52 4.52 0 0 1-2.04.077 4.517 4.517 0 0 0 4.217 3.134 9.055 9.055 0 0 1-5.604 1.93A9.18 9.18 0 0 1 6 23.85a12.773 12.773 0 0 0 6.918 2.027c8.3 0 12.84-6.876 12.84-12.84 0-.195-.005-.39-.014-.583a9.172 9.172 0 0 0 2.252-2.336\" fill-rule=\"evenodd\">\n        </path>\n       </g>\n      </svg>\n     </span>\n    </a>\n    <a class=\"at-share-btn at-svc-reddit\" role=\"button\" tabindex=\"0\">\n     <span class=\"at4-visually-hidden\">\n      Share to Reddit\n     </span>\n     <span class=\"at-icon-wrapper\" style=\"background-color: rgb(255, 87, 0);\">\n      <svg aria-labelledby=\"at-svg-reddit-3\" class=\"at-icon at-icon-reddit\" role=\"img\" style=\"fill: rgb(255, 255, 255);\" version=\"1.1\" viewbox=\"0 0 32 32\" xmlns=\"http://www.w3.org/2000/svg\" xmlns:xlink=\"http://www.w3.org/1999/xlink\">\n       <title id=\"at-svg-reddit-3\">\n        Reddit\n       </title>\n       <g>\n        <path d=\"M27 15.5a2.452 2.452 0 0 1-1.338 2.21c.098.38.147.777.147 1.19 0 1.283-.437 2.47-1.308 3.563-.872 1.092-2.06 1.955-3.567 2.588-1.506.634-3.143.95-4.91.95-1.768 0-3.403-.316-4.905-.95-1.502-.632-2.69-1.495-3.56-2.587-.872-1.092-1.308-2.28-1.308-3.562 0-.388.045-.777.135-1.166a2.47 2.47 0 0 1-1.006-.912c-.253-.4-.38-.842-.38-1.322 0-.678.237-1.26.712-1.744a2.334 2.334 0 0 1 1.73-.726c.697 0 1.29.26 1.78.782 1.785-1.258 3.893-1.928 6.324-2.01l1.424-6.467a.42.42 0 0 1 .184-.26.4.4 0 0 1 .32-.063l4.53 1.006c.147-.306.368-.553.662-.74a1.78 1.78 0 0 1 .97-.278c.508 0 .94.18 1.302.54.36.36.54.796.54 1.31 0 .512-.18.95-.54 1.315-.36.364-.794.546-1.302.546-.507 0-.94-.18-1.295-.54a1.793 1.793 0 0 1-.533-1.308l-4.1-.92-1.277 5.86c2.455.074 4.58.736 6.37 1.985a2.315 2.315 0 0 1 1.757-.757c.68 0 1.256.242 1.73.726.476.484.713 1.066.713 1.744zm-16.868 2.47c0 .513.178.95.534 1.315.356.365.787.547 1.295.547.508 0 .942-.182 1.302-.547.36-.364.54-.802.54-1.315 0-.513-.18-.95-.54-1.31-.36-.36-.794-.54-1.3-.54-.5 0-.93.183-1.29.547a1.79 1.79 0 0 0-.54 1.303zm9.944 4.406c.09-.09.135-.2.135-.323a.444.444 0 0 0-.44-.447c-.124 0-.23.042-.32.124-.336.348-.83.605-1.486.77a7.99 7.99 0 0 1-1.964.248 7.99 7.99 0 0 1-1.964-.248c-.655-.165-1.15-.422-1.486-.77a.456.456 0 0 0-.32-.124.414.414 0 0 0-.306.124.41.41 0 0 0-.135.317.45.45 0 0 0 .134.33c.352.355.837.636 1.455.843.617.207 1.118.33 1.503.366a11.6 11.6 0 0 0 1.117.056c.36 0 .733-.02 1.117-.056.385-.037.886-.16 1.504-.366.62-.207 1.104-.488 1.456-.844zm-.037-2.544c.507 0 .938-.182 1.294-.547.356-.364.534-.802.534-1.315 0-.505-.18-.94-.54-1.303a1.75 1.75 0 0 0-1.29-.546c-.506 0-.94.18-1.3.54-.36.36-.54.797-.54 1.31s.18.95.54 1.315c.36.365.794.547 1.3.547z\" fill-rule=\"evenodd\">\n        </path>\n       </g>\n      </svg>\n     </span>\n    </a>\n    <a class=\"at-share-btn at-svc-email\" role=\"button\" tabindex=\"0\">\n     <span class=\"at4-visually-hidden\">\n      Share to Email\n     </span>\n     <span class=\"at-icon-wrapper\" style=\"background-color: rgb(132, 132, 132);\">\n      <svg aria-labelledby=\"at-svg-email-4\" class=\"at-icon at-icon-email\" role=\"img\" style=\"fill: rgb(255, 255, 255);\" version=\"1.1\" viewbox=\"0 0 32 32\" xmlns=\"http://www.w3.org/2000/svg\" xmlns:xlink=\"http://www.w3.org/1999/xlink\">\n       <title id=\"at-svg-email-4\">\n        Email\n       </title>\n       <g>\n        <g fill-rule=\"evenodd\">\n        </g>\n        <path d=\"M27 22.757c0 1.24-.988 2.243-2.19 2.243H7.19C5.98 25 5 23.994 5 22.757V13.67c0-.556.39-.773.855-.496l8.78 5.238c.782.467 1.95.467 2.73 0l8.78-5.238c.472-.28.855-.063.855.495v9.087z\">\n        </path>\n        <path d=\"M27 9.243C27 8.006 26.02 7 24.81 7H7.19C5.988 7 5 8.004 5 9.243v.465c0 .554.385 1.232.857 1.514l9.61 5.733c.267.16.8.16 1.067 0l9.61-5.733c.473-.283.856-.96.856-1.514v-.465z\">\n        </path>\n       </g>\n      </svg>\n     </span>\n    </a>\n    <a class=\"at-share-btn at-svc-compact\" role=\"button\" tabindex=\"0\">\n     <span class=\"at4-visually-hidden\">\n      More AddThis Share options\n     </span>\n     <span class=\"at-icon-wrapper\" style=\"background-color: rgb(255, 101, 80);\">\n      <svg aria-labelledby=\"at-svg-addthis-5\" class=\"at-icon at-icon-addthis\" role=\"img\" style=\"fill: rgb(255, 255, 255);\" version=\"1.1\" viewbox=\"0 0 32 32\" xmlns=\"http://www.w3.org/2000/svg\" xmlns:xlink=\"http://www.w3.org/1999/xlink\">\n       <title id=\"at-svg-addthis-5\">\n        AddThis\n       </title>\n       <g>\n        <path d=\"M18 14V8h-4v6H8v4h6v6h4v-6h6v-4h-6z\" fill-rule=\"evenodd\">\n        </path>\n       </g>\n      </svg>\n     </span>\n    </a>\n    <div class=\"at-custom-sidebar-counter\" style=\"width: 48px; overflow-wrap: break-word;\">\n     <div class=\"at-custom-sidebar-count\" style=\"color: rgb(34, 34, 34);\">\n      259\n     </div>\n     <div class=\"at-custom-sidebar-text\" style=\"color: rgb(34, 34, 34);\">\n      SHARES\n     </div>\n    </div>\n    <div class=\"at-share-close-control ats-transparent at4-hide-content at4-show\" id=\"at4-scc\" title=\"Hide\">\n     <div class=\"at4-arrow at-left\">\n      Hide\n     </div>\n    </div>\n   </div>\n   <div class=\"at-share-open-control at-share-open-control-left ats-transparent at4-hide\" id=\"at4-soc\" title=\"Show\">\n    <div class=\"at4-arrow at-right\">\n     Show\n    </div>\n   </div>\n  </div>\n  <div aria-labelledby=\"at-thankyou-label\" class=\"at4-thankyou at4-thankyou-background at4-hide ats-transparent at4-thankyou-desktop addthis-smartlayers addthis-animated fadeIn at4-show\" id=\"at4-thankyou\" role=\"dialog\">\n   <div class=\"at4lb-inner\">\n    <button class=\"at4x\" title=\"Close\">\n     Close\n    </button>\n    <a id=\"at4-palogo\">\n     <div>\n      <a class=\"at-branding-logo\" href=\"https://www.addthis.com/website-tools/overview?utm_source=AddThis%20Tools&amp;utm_medium=image\" target=\"_blank\" title=\"Powered by AddThis\">\n       <div class=\"at-branding-icon\">\n       </div>\n       <span class=\"at-branding-addthis\">\n        AddThis\n       </span>\n      </a>\n     </div>\n    </a>\n    <div class=\"at4-thankyou-inner\">\n     <div class=\"thankyou-title\" id=\"at-thankyou-label\">\n     </div>\n     <div class=\"thankyou-description\">\n     </div>\n     <div class=\"at4-thankyou-layer\">\n     </div>\n    </div>\n   </div>\n  </div>\n  <div aria-labelledby=\"at-share-dock-label\" class=\"at-share-dock-outer at4-hide addthis-smartlayers at4-visually-hidden addthis-smartlayers-mobile\" role=\"region\">\n   <div class=\"at4-hide\" id=\"at-share-dock-label\">\n    AddThis Sharing\n   </div>\n   <div class=\"at-share-dock atss atss-bottom at-shfs-small addthis-animated slideInUp at4-show at4-hide\" id=\"at-share-dock\">\n    <a class=\"at4-count\" href=\"#\" style=\"width: 16.6667%;\">\n     <span class=\"at4-counter\">\n     </span>\n     <span class=\"at4-share-label\">\n      SHARES\n     </span>\n    </a>\n    <a class=\"at-share-btn at-svc-facebook\" role=\"button\" style=\"width: 16.6667%;\" tabindex=\"0\" title=\"Facebook\">\n     <span class=\"at-icon-wrapper\" style=\"background-color: rgb(59, 89, 152);\">\n      <svg alt=\"Facebook\" aria-labelledby=\"at-svg-facebook-6\" class=\"at-icon at-icon-facebook\" role=\"img\" style=\"fill: rgb(255, 255, 255); width: 24px; height: 24px;\" title=\"Facebook\" version=\"1.1\" viewbox=\"0 0 32 32\" xmlns=\"http://www.w3.org/2000/svg\" xmlns:xlink=\"http://www.w3.org/1999/xlink\">\n       <title id=\"at-svg-facebook-6\">\n        Facebook\n       </title>\n       <g>\n        <path d=\"M22 5.16c-.406-.054-1.806-.16-3.43-.16-3.4 0-5.733 1.825-5.733 5.17v2.882H9v3.913h3.837V27h4.604V16.965h3.823l.587-3.913h-4.41v-2.5c0-1.123.347-1.903 2.198-1.903H22V5.16z\" fill-rule=\"evenodd\">\n        </path>\n       </g>\n      </svg>\n     </span>\n    </a>\n    <a class=\"at-share-btn at-svc-twitter\" role=\"button\" style=\"width: 16.6667%;\" tabindex=\"0\" title=\"Twitter\">\n     <span class=\"at-icon-wrapper\" style=\"background-color: rgb(29, 161, 242);\">\n      <svg alt=\"Twitter\" aria-labelledby=\"at-svg-twitter-7\" class=\"at-icon at-icon-twitter\" role=\"img\" style=\"fill: rgb(255, 255, 255); width: 24px; height: 24px;\" title=\"Twitter\" version=\"1.1\" viewbox=\"0 0 32 32\" xmlns=\"http://www.w3.org/2000/svg\" xmlns:xlink=\"http://www.w3.org/1999/xlink\">\n       <title id=\"at-svg-twitter-7\">\n        Twitter\n       </title>\n       <g>\n        <path d=\"M27.996 10.116c-.81.36-1.68.602-2.592.71a4.526 4.526 0 0 0 1.984-2.496 9.037 9.037 0 0 1-2.866 1.095 4.513 4.513 0 0 0-7.69 4.116 12.81 12.81 0 0 1-9.3-4.715 4.49 4.49 0 0 0-.612 2.27 4.51 4.51 0 0 0 2.008 3.755 4.495 4.495 0 0 1-2.044-.564v.057a4.515 4.515 0 0 0 3.62 4.425 4.52 4.52 0 0 1-2.04.077 4.517 4.517 0 0 0 4.217 3.134 9.055 9.055 0 0 1-5.604 1.93A9.18 9.18 0 0 1 6 23.85a12.773 12.773 0 0 0 6.918 2.027c8.3 0 12.84-6.876 12.84-12.84 0-.195-.005-.39-.014-.583a9.172 9.172 0 0 0 2.252-2.336\" fill-rule=\"evenodd\">\n        </path>\n       </g>\n      </svg>\n     </span>\n    </a>\n    <a class=\"at-share-btn at-svc-reddit\" role=\"button\" style=\"width: 16.6667%;\" tabindex=\"0\" title=\"Reddit\">\n     <span class=\"at-icon-wrapper\" style=\"background-color: rgb(255, 87, 0);\">\n      <svg alt=\"Reddit\" aria-labelledby=\"at-svg-reddit-8\" class=\"at-icon at-icon-reddit\" role=\"img\" style=\"fill: rgb(255, 255, 255); width: 24px; height: 24px;\" title=\"Reddit\" version=\"1.1\" viewbox=\"0 0 32 32\" xmlns=\"http://www.w3.org/2000/svg\" xmlns:xlink=\"http://www.w3.org/1999/xlink\">\n       <title id=\"at-svg-reddit-8\">\n        Reddit\n       </title>\n       <g>\n        <path d=\"M27 15.5a2.452 2.452 0 0 1-1.338 2.21c.098.38.147.777.147 1.19 0 1.283-.437 2.47-1.308 3.563-.872 1.092-2.06 1.955-3.567 2.588-1.506.634-3.143.95-4.91.95-1.768 0-3.403-.316-4.905-.95-1.502-.632-2.69-1.495-3.56-2.587-.872-1.092-1.308-2.28-1.308-3.562 0-.388.045-.777.135-1.166a2.47 2.47 0 0 1-1.006-.912c-.253-.4-.38-.842-.38-1.322 0-.678.237-1.26.712-1.744a2.334 2.334 0 0 1 1.73-.726c.697 0 1.29.26 1.78.782 1.785-1.258 3.893-1.928 6.324-2.01l1.424-6.467a.42.42 0 0 1 .184-.26.4.4 0 0 1 .32-.063l4.53 1.006c.147-.306.368-.553.662-.74a1.78 1.78 0 0 1 .97-.278c.508 0 .94.18 1.302.54.36.36.54.796.54 1.31 0 .512-.18.95-.54 1.315-.36.364-.794.546-1.302.546-.507 0-.94-.18-1.295-.54a1.793 1.793 0 0 1-.533-1.308l-4.1-.92-1.277 5.86c2.455.074 4.58.736 6.37 1.985a2.315 2.315 0 0 1 1.757-.757c.68 0 1.256.242 1.73.726.476.484.713 1.066.713 1.744zm-16.868 2.47c0 .513.178.95.534 1.315.356.365.787.547 1.295.547.508 0 .942-.182 1.302-.547.36-.364.54-.802.54-1.315 0-.513-.18-.95-.54-1.31-.36-.36-.794-.54-1.3-.54-.5 0-.93.183-1.29.547a1.79 1.79 0 0 0-.54 1.303zm9.944 4.406c.09-.09.135-.2.135-.323a.444.444 0 0 0-.44-.447c-.124 0-.23.042-.32.124-.336.348-.83.605-1.486.77a7.99 7.99 0 0 1-1.964.248 7.99 7.99 0 0 1-1.964-.248c-.655-.165-1.15-.422-1.486-.77a.456.456 0 0 0-.32-.124.414.414 0 0 0-.306.124.41.41 0 0 0-.135.317.45.45 0 0 0 .134.33c.352.355.837.636 1.455.843.617.207 1.118.33 1.503.366a11.6 11.6 0 0 0 1.117.056c.36 0 .733-.02 1.117-.056.385-.037.886-.16 1.504-.366.62-.207 1.104-.488 1.456-.844zm-.037-2.544c.507 0 .938-.182 1.294-.547.356-.364.534-.802.534-1.315 0-.505-.18-.94-.54-1.303a1.75 1.75 0 0 0-1.29-.546c-.506 0-.94.18-1.3.54-.36.36-.54.797-.54 1.31s.18.95.54 1.315c.36.365.794.547 1.3.547z\" fill-rule=\"evenodd\">\n        </path>\n       </g>\n      </svg>\n     </span>\n    </a>\n    <a class=\"at-share-btn at-svc-email\" role=\"button\" style=\"width: 16.6667%;\" tabindex=\"0\" title=\"Email\">\n     <span class=\"at-icon-wrapper\" style=\"background-color: rgb(132, 132, 132);\">\n      <svg alt=\"Email\" aria-labelledby=\"at-svg-email-9\" class=\"at-icon at-icon-email\" role=\"img\" style=\"fill: rgb(255, 255, 255); width: 24px; height: 24px;\" title=\"Email\" version=\"1.1\" viewbox=\"0 0 32 32\" xmlns=\"http://www.w3.org/2000/svg\" xmlns:xlink=\"http://www.w3.org/1999/xlink\">\n       <title id=\"at-svg-email-9\">\n        Email\n       </title>\n       <g>\n        <g fill-rule=\"evenodd\">\n        </g>\n        <path d=\"M27 22.757c0 1.24-.988 2.243-2.19 2.243H7.19C5.98 25 5 23.994 5 22.757V13.67c0-.556.39-.773.855-.496l8.78 5.238c.782.467 1.95.467 2.73 0l8.78-5.238c.472-.28.855-.063.855.495v9.087z\">\n        </path>\n        <path d=\"M27 9.243C27 8.006 26.02 7 24.81 7H7.19C5.988 7 5 8.004 5 9.243v.465c0 .554.385 1.232.857 1.514l9.61 5.733c.267.16.8.16 1.067 0l9.61-5.733c.473-.283.856-.96.856-1.514v-.465z\">\n        </path>\n       </g>\n      </svg>\n     </span>\n    </a>\n    <a class=\"at-share-btn at-svc-compact\" role=\"button\" style=\"width: 16.6667%;\" tabindex=\"0\" title=\"More\">\n     <span class=\"at-icon-wrapper\" style=\"background-color: rgb(255, 101, 80);\">\n      <svg alt=\"More\" aria-labelledby=\"at-svg-addthis-10\" class=\"at-icon at-icon-addthis\" role=\"img\" style=\"fill: rgb(255, 255, 255); width: 24px; height: 24px;\" title=\"More\" version=\"1.1\" viewbox=\"0 0 32 32\" xmlns=\"http://www.w3.org/2000/svg\" xmlns:xlink=\"http://www.w3.org/1999/xlink\">\n       <title id=\"at-svg-addthis-10\">\n        AddThis\n       </title>\n       <g>\n        <path d=\"M18 14V8h-4v6H8v4h6v6h4v-6h6v-4h-6z\" fill-rule=\"evenodd\">\n        </path>\n       </g>\n      </svg>\n     </span>\n    </a>\n   </div>\n  </div>\n </body>\n</html>\n"
     ]
    }
   ],
   "source": [
    "# View results and determine elements containing news title and paragraphs\n",
    "print(soup.prettify())"
   ]
  },
  {
   "cell_type": "code",
   "execution_count": 47,
   "metadata": {},
   "outputs": [
    {
     "output_type": "execute_result",
     "data": {
      "text/plain": [
       "\"Perseverance Rover's SuperCam Science Instrument Delivers First Results\""
      ]
     },
     "metadata": {},
     "execution_count": 47
    }
   ],
   "source": [
    "# return results as a list\n",
    "titles = soup.find_all(\"div\", class_=\"content_title\")\n",
    "news_title = titles[1].text.replace('\\n', '')\n",
    "news_title"
   ]
  },
  {
   "cell_type": "code",
   "execution_count": 48,
   "metadata": {},
   "outputs": [
    {
     "output_type": "execute_result",
     "data": {
      "text/plain": [
       "'Data from the powerful science tool includes sounds of its laser zapping a rock in order to test what it’s made of.'"
      ]
     },
     "metadata": {},
     "execution_count": 48
    }
   ],
   "source": [
    "paragraphs = soup.find_all(class_=\"article_teaser_body\")\n",
    "news_p = paragraphs[0].text.replace('\\n', '')\n",
    "news_p"
   ]
  },
  {
   "cell_type": "code",
   "execution_count": 49,
   "metadata": {},
   "outputs": [],
   "source": [
    "from webdriver_manager.chrome import ChromeDriverManager"
   ]
  },
  {
   "cell_type": "code",
   "execution_count": 50,
   "metadata": {},
   "outputs": [
    {
     "output_type": "stream",
     "name": "stderr",
     "text": [
      "[WDM] - ====== WebDriver manager ======\n",
      "[WDM] - Current google-chrome version is 89.0.4389\n",
      "[WDM] - Get LATEST driver version for 89.0.4389\n",
      "\n",
      "\n",
      "[WDM] - Driver [C:\\Users\\Cameron\\.wdm\\drivers\\chromedriver\\win32\\89.0.4389.23\\chromedriver.exe] found in cache\n"
     ]
    }
   ],
   "source": [
    "executable_path = {'executable_path': ChromeDriverManager().install()}\n",
    "browser = Browser('chrome', **executable_path, headless=False)"
   ]
  },
  {
   "cell_type": "code",
   "execution_count": 51,
   "metadata": {},
   "outputs": [],
   "source": [
    "url = 'https://data-class-jpl-space.s3.amazonaws.com/JPL_Space/index.html'\n",
    "browser.visit(url)"
   ]
  },
  {
   "cell_type": "code",
   "execution_count": 52,
   "metadata": {
    "scrolled": true
   },
   "outputs": [],
   "source": [
    "html = browser.html\n",
    "soup = bs(html, 'html.parser')"
   ]
  },
  {
   "cell_type": "code",
   "execution_count": 53,
   "metadata": {},
   "outputs": [],
   "source": [
    "featured_image_url = soup.find(class_=\"headerimage fade-in\").get(\"src\")"
   ]
  },
  {
   "cell_type": "code",
   "execution_count": 54,
   "metadata": {},
   "outputs": [],
   "source": [
    "featured_image_url\n",
    "fullurl = url + \"/\" + featured_image_url"
   ]
  },
  {
   "cell_type": "code",
   "execution_count": 55,
   "metadata": {},
   "outputs": [
    {
     "output_type": "execute_result",
     "data": {
      "text/plain": [
       "'https://data-class-jpl-space.s3.amazonaws.com/JPL_Space/index.html/image/featured/mars2.jpg'"
      ]
     },
     "metadata": {},
     "execution_count": 55
    }
   ],
   "source": [
    "fullurl"
   ]
  },
  {
   "cell_type": "code",
   "execution_count": 56,
   "metadata": {},
   "outputs": [],
   "source": [
    "import pandas as pd"
   ]
  },
  {
   "cell_type": "code",
   "execution_count": 57,
   "metadata": {},
   "outputs": [],
   "source": [
    "url = 'https://space-facts.com/mars/'"
   ]
  },
  {
   "cell_type": "code",
   "execution_count": 58,
   "metadata": {},
   "outputs": [
    {
     "output_type": "execute_result",
     "data": {
      "text/plain": [
       "[                      0                              1\n",
       " 0  Equatorial Diameter:                       6,792 km\n",
       " 1       Polar Diameter:                       6,752 km\n",
       " 2                 Mass:  6.39 × 10^23 kg (0.11 Earths)\n",
       " 3                Moons:            2 (Phobos & Deimos)\n",
       " 4       Orbit Distance:       227,943,824 km (1.38 AU)\n",
       " 5         Orbit Period:           687 days (1.9 years)\n",
       " 6  Surface Temperature:                   -87 to -5 °C\n",
       " 7         First Record:              2nd millennium BC\n",
       " 8          Recorded By:           Egyptian astronomers,\n",
       "   Mars - Earth Comparison             Mars            Earth\n",
       " 0               Diameter:         6,779 km        12,742 km\n",
       " 1                   Mass:  6.39 × 10^23 kg  5.97 × 10^24 kg\n",
       " 2                  Moons:                2                1\n",
       " 3      Distance from Sun:   227,943,824 km   149,598,262 km\n",
       " 4         Length of Year:   687 Earth days      365.24 days\n",
       " 5            Temperature:     -87 to -5 °C      -88 to 58°C,\n",
       "                       0                              1\n",
       " 0  Equatorial Diameter:                       6,792 km\n",
       " 1       Polar Diameter:                       6,752 km\n",
       " 2                 Mass:  6.39 × 10^23 kg (0.11 Earths)\n",
       " 3                Moons:            2 (Phobos & Deimos)\n",
       " 4       Orbit Distance:       227,943,824 km (1.38 AU)\n",
       " 5         Orbit Period:           687 days (1.9 years)\n",
       " 6  Surface Temperature:                   -87 to -5 °C\n",
       " 7         First Record:              2nd millennium BC\n",
       " 8          Recorded By:           Egyptian astronomers]"
      ]
     },
     "metadata": {},
     "execution_count": 58
    }
   ],
   "source": [
    "tables = pd.read_html(url)\n",
    "tables"
   ]
  },
  {
   "cell_type": "code",
   "execution_count": 59,
   "metadata": {},
   "outputs": [
    {
     "output_type": "execute_result",
     "data": {
      "text/plain": [
       "                      0                              1\n",
       "0  Equatorial Diameter:                       6,792 km\n",
       "1       Polar Diameter:                       6,752 km\n",
       "2                 Mass:  6.39 × 10^23 kg (0.11 Earths)\n",
       "3                Moons:            2 (Phobos & Deimos)\n",
       "4       Orbit Distance:       227,943,824 km (1.38 AU)"
      ],
      "text/html": "<div>\n<style scoped>\n    .dataframe tbody tr th:only-of-type {\n        vertical-align: middle;\n    }\n\n    .dataframe tbody tr th {\n        vertical-align: top;\n    }\n\n    .dataframe thead th {\n        text-align: right;\n    }\n</style>\n<table border=\"1\" class=\"dataframe\">\n  <thead>\n    <tr style=\"text-align: right;\">\n      <th></th>\n      <th>0</th>\n      <th>1</th>\n    </tr>\n  </thead>\n  <tbody>\n    <tr>\n      <th>0</th>\n      <td>Equatorial Diameter:</td>\n      <td>6,792 km</td>\n    </tr>\n    <tr>\n      <th>1</th>\n      <td>Polar Diameter:</td>\n      <td>6,752 km</td>\n    </tr>\n    <tr>\n      <th>2</th>\n      <td>Mass:</td>\n      <td>6.39 × 10^23 kg (0.11 Earths)</td>\n    </tr>\n    <tr>\n      <th>3</th>\n      <td>Moons:</td>\n      <td>2 (Phobos &amp; Deimos)</td>\n    </tr>\n    <tr>\n      <th>4</th>\n      <td>Orbit Distance:</td>\n      <td>227,943,824 km (1.38 AU)</td>\n    </tr>\n  </tbody>\n</table>\n</div>"
     },
     "metadata": {},
     "execution_count": 59
    }
   ],
   "source": [
    "#We can slice off any of those dataframes that we want using normal indexing.\n",
    "df = tables[0]\n",
    "df.head()"
   ]
  },
  {
   "cell_type": "code",
   "execution_count": 60,
   "metadata": {},
   "outputs": [
    {
     "output_type": "execute_result",
     "data": {
      "text/plain": [
       "'<table border=\"1\" class=\"dataframe\">\\n  <thead>\\n    <tr style=\"text-align: right;\">\\n      <th></th>\\n      <th>0</th>\\n      <th>1</th>\\n    </tr>\\n  </thead>\\n  <tbody>\\n    <tr>\\n      <th>0</th>\\n      <td>Equatorial Diameter:</td>\\n      <td>6,792 km</td>\\n    </tr>\\n    <tr>\\n      <th>1</th>\\n      <td>Polar Diameter:</td>\\n      <td>6,752 km</td>\\n    </tr>\\n    <tr>\\n      <th>2</th>\\n      <td>Mass:</td>\\n      <td>6.39 × 10^23 kg (0.11 Earths)</td>\\n    </tr>\\n    <tr>\\n      <th>3</th>\\n      <td>Moons:</td>\\n      <td>2 (Phobos &amp; Deimos)</td>\\n    </tr>\\n    <tr>\\n      <th>4</th>\\n      <td>Orbit Distance:</td>\\n      <td>227,943,824 km (1.38 AU)</td>\\n    </tr>\\n    <tr>\\n      <th>5</th>\\n      <td>Orbit Period:</td>\\n      <td>687 days (1.9 years)</td>\\n    </tr>\\n    <tr>\\n      <th>6</th>\\n      <td>Surface Temperature:</td>\\n      <td>-87 to -5 °C</td>\\n    </tr>\\n    <tr>\\n      <th>7</th>\\n      <td>First Record:</td>\\n      <td>2nd millennium BC</td>\\n    </tr>\\n    <tr>\\n      <th>8</th>\\n      <td>Recorded By:</td>\\n      <td>Egyptian astronomers</td>\\n    </tr>\\n  </tbody>\\n</table>'"
      ]
     },
     "metadata": {},
     "execution_count": 60
    }
   ],
   "source": [
    "#Pandas also had a to_html method that we can use to generate HTML tables from DataFrames.\n",
    "html_table = df.to_html()\n",
    "html_table"
   ]
  },
  {
   "cell_type": "code",
   "execution_count": 61,
   "metadata": {},
   "outputs": [
    {
     "output_type": "execute_result",
     "data": {
      "text/plain": [
       "'<table border=\"1\" class=\"dataframe\">  <thead>    <tr style=\"text-align: right;\">      <th></th>      <th>0</th>      <th>1</th>    </tr>  </thead>  <tbody>    <tr>      <th>0</th>      <td>Equatorial Diameter:</td>      <td>6,792 km</td>    </tr>    <tr>      <th>1</th>      <td>Polar Diameter:</td>      <td>6,752 km</td>    </tr>    <tr>      <th>2</th>      <td>Mass:</td>      <td>6.39 × 10^23 kg (0.11 Earths)</td>    </tr>    <tr>      <th>3</th>      <td>Moons:</td>      <td>2 (Phobos &amp; Deimos)</td>    </tr>    <tr>      <th>4</th>      <td>Orbit Distance:</td>      <td>227,943,824 km (1.38 AU)</td>    </tr>    <tr>      <th>5</th>      <td>Orbit Period:</td>      <td>687 days (1.9 years)</td>    </tr>    <tr>      <th>6</th>      <td>Surface Temperature:</td>      <td>-87 to -5 °C</td>    </tr>    <tr>      <th>7</th>      <td>First Record:</td>      <td>2nd millennium BC</td>    </tr>    <tr>      <th>8</th>      <td>Recorded By:</td>      <td>Egyptian astronomers</td>    </tr>  </tbody></table>'"
      ]
     },
     "metadata": {},
     "execution_count": 61
    }
   ],
   "source": [
    "#clean up table by removing new line code\n",
    "html_table.replace('\\n', '')"
   ]
  },
  {
   "cell_type": "code",
   "execution_count": 62,
   "metadata": {},
   "outputs": [],
   "source": [
    "#save the new df table to html\n",
    "df.to_html('table.html')"
   ]
  },
  {
   "cell_type": "code",
   "execution_count": 63,
   "metadata": {},
   "outputs": [],
   "source": [
    "#this is the hardest one\n",
    "#browser. visit. url with splinter  there are four hemisphere products, for each link use splinter to click on the link and get the image associated get the full url AND then get the header title in an h2 tag with a class of title  click link come to page  browser.back () that will take you back to the page with the four items, then click again on next one -- go back again get two things, go back, get two things\n",
    "#use the browser.links.findby partial_text \"hemisphere, enhanced\" that should return the four links\n",
    "#print out the list and then you can click on each one in the list to go to the next page\n",
    "#list of four things get the first one then repeat it four times or put it into a loop\n",
    "#get title and store in dictionary (4) then append it to a list hemisphere_image_urls  \n",
    "#do all in one cell in jupyter so it goes through quickly.\n"
   ]
  },
  {
   "cell_type": "code",
   "execution_count": 64,
   "metadata": {},
   "outputs": [],
   "source": [
    "url = \"https://astrogeology.usgs.gov/search/results?q=hemisphere+enhanced&k1=target&v1=Mars\"\n",
    "browser.visit(url)"
   ]
  },
  {
   "cell_type": "code",
   "execution_count": 65,
   "metadata": {},
   "outputs": [
    {
     "output_type": "stream",
     "name": "stdout",
     "text": [
      "4\n"
     ]
    }
   ],
   "source": [
    "print(len(browser.find_by_css(\"a.product-item h3\")))\n",
    "hemisphere_image_urls = []"
   ]
  },
  {
   "cell_type": "code",
   "execution_count": 66,
   "metadata": {},
   "outputs": [],
   "source": [
    "for i in range (4):\n",
    "    current = {}\n",
    "    browser.find_by_css(\"a.product-item h3\")[i].click()\n",
    "    elements = browser.find_by_text('Sample').first\n",
    "    current[\"image_url\"] = elements['href']\n",
    "    title = browser.find_by_css('h2.title').text\n",
    "    current [\"title\"] = title\n",
    "    hemisphere_image_urls.append(current)\n",
    "    browser.back()\n"
   ]
  },
  {
   "cell_type": "code",
   "execution_count": 67,
   "metadata": {},
   "outputs": [
    {
     "output_type": "stream",
     "name": "stdout",
     "text": [
      "[{'image_url': 'https://astropedia.astrogeology.usgs.gov/download/Mars/Viking/cerberus_enhanced.tif/full.jpg', 'title': 'Cerberus Hemisphere Enhanced'}, {'image_url': 'https://astropedia.astrogeology.usgs.gov/download/Mars/Viking/schiaparelli_enhanced.tif/full.jpg', 'title': 'Schiaparelli Hemisphere Enhanced'}, {'image_url': 'https://astropedia.astrogeology.usgs.gov/download/Mars/Viking/syrtis_major_enhanced.tif/full.jpg', 'title': 'Syrtis Major Hemisphere Enhanced'}, {'image_url': 'https://astropedia.astrogeology.usgs.gov/download/Mars/Viking/valles_marineris_enhanced.tif/full.jpg', 'title': 'Valles Marineris Hemisphere Enhanced'}]\n"
     ]
    }
   ],
   "source": [
    "print(hemisphere_image_urls)"
   ]
  },
  {
   "cell_type": "code",
   "execution_count": 51,
   "metadata": {},
   "outputs": [],
   "source": [
    "browser.quit()"
   ]
  },
  {
   "cell_type": "markdown",
   "metadata": {},
   "source": [
    "## Step 2 - MongoDB and Flask Application\n",
    "\n",
    "Use MongoDB with Flask templating to create a new HTML page that displays all of the information that was scraped from the URLs above.\n",
    "\n",
    "* Start by converting your Jupyter notebook into a Python script called `scrape_mars.py` with a function called `scrape` that will execute all of your scraping code from above and return one Python dictionary containing all of the scraped data.\n",
    "\n",
    "* Next, create a route called `/scrape` that will import your `scrape_mars.py` script and call your `scrape` function.\n",
    "\n",
    "  * Store the return value in Mongo as a Python dictionary.\n",
    "\n",
    "* Create a root route `/` that will query your Mongo database and pass the mars data into an HTML template to display the data.\n",
    "\n",
    "* Create a template HTML file called `index.html` that will take the mars data dictionary and display all of the data in the appropriate HTML elements. Use the following as a guide for what the final product should look like, but feel free to create your own design."
   ]
  },
  {
   "cell_type": "code",
   "execution_count": null,
   "metadata": {},
   "outputs": [],
   "source": [
    "#then do mongo and db flask part use the costa rica example copy the app py the scrape the index.html rename\n",
    "#open scrape py then replace with what you were successfuly able to scrape in jupyter  - rename the costa parts - store into a dictionary it will retun to app.py so it will store to Mongo db\n",
    "#get the costa rica to run then change it - if you change words you have to change it in the other files\n",
    "#return is the variable that is passed into html change title\n",
    "#not necessary to convert notebook into a script - only four of them - \n",
    "#when you try to store the table in the html - it turns into a dataframe for jupyter notebook - but that won't store into mongo as a dataframe so you will get an error so you will have to take data frame and do to_html to convert it to html\n",
    "#you need to tell it and there are security issues: example {{mars.facts | safe}}won't display as an actual table - doing safe will render it and pass security"
   ]
  },
  {
   "cell_type": "code",
   "execution_count": null,
   "metadata": {},
   "outputs": [],
   "source": [
    "# Initialize PyMongo to work with MongoDBs\n",
    "conn = 'mongodb://localhost:27017'\n",
    "client = pymongo.MongoClient(conn)\n",
    "db = client.nasa_db\n",
    "collection = db.items"
   ]
  },
  {
   "cell_type": "code",
   "execution_count": null,
   "metadata": {},
   "outputs": [],
   "source": [
    " # Dictionary to be inserted as a MongoDB document\n",
    "            post = {\n",
    "                'title': title,\n",
    "                'price': price,\n",
    "                'url': link\n",
    "            }\n",
    "\n",
    "            collection.insert_one(post)"
   ]
  },
  {
   "cell_type": "markdown",
   "metadata": {},
   "source": [
    "## Step 3 - Submission\n",
    "\n",
    "To submit your work to BootCampSpot, create a new GitHub repository and upload the following:\n",
    "\n",
    "1. The Jupyter Notebook containing the scraping code used.\n",
    "\n",
    "2. Screenshots of your final application.\n",
    "\n",
    "3. Submit the link to your new repository to BootCampSpot.\n",
    "\n",
    "4. Ensure your repository has regular commits (i.e. 20+ commits) and a thorough README.md file"
   ]
  },
  {
   "cell_type": "markdown",
   "metadata": {},
   "source": [
    "## Hints\n",
    "\n",
    "* Use Splinter to navigate the sites when needed and BeautifulSoup to help find and parse out the necessary data.\n",
    "\n",
    "* Use Pymongo for CRUD applications for your database. For this homework, you can simply overwrite the existing document each time the `/scrape` url is visited and new data is obtained.\n",
    "\n",
    "* Use Bootstrap to structure your HTML template."
   ]
  },
  {
   "cell_type": "markdown",
   "metadata": {},
   "source": []
  }
 ],
 "metadata": {
  "kernelspec": {
   "display_name": "Python 3",
   "language": "python",
   "name": "python3"
  },
  "language_info": {
   "codemirror_mode": {
    "name": "ipython",
    "version": 3
   },
   "file_extension": ".py",
   "mimetype": "text/x-python",
   "name": "python",
   "nbconvert_exporter": "python",
   "pygments_lexer": "ipython3",
   "version": "3.8.3-final"
  }
 },
 "nbformat": 4,
 "nbformat_minor": 4
}